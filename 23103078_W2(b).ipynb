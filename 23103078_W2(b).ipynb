{
  "nbformat": 4,
  "nbformat_minor": 0,
  "metadata": {
    "colab": {
      "provenance": [],
      "authorship_tag": "ABX9TyMwMjvk+oZ35KCBhAL3mvqs",
      "include_colab_link": true
    },
    "kernelspec": {
      "name": "python3",
      "display_name": "Python 3"
    },
    "language_info": {
      "name": "python"
    }
  },
  "cells": [
    {
      "cell_type": "markdown",
      "metadata": {
        "id": "view-in-github",
        "colab_type": "text"
      },
      "source": [
        "<a href=\"https://colab.research.google.com/github/ShireenKachroo/Open-Source-Lab/blob/main/23103078_W2(b).ipynb\" target=\"_parent\"><img src=\"https://colab.research.google.com/assets/colab-badge.svg\" alt=\"Open In Colab\"/></a>"
      ]
    },
    {
      "cell_type": "markdown",
      "source": [
        "ASSIGNMENT 2(a)"
      ],
      "metadata": {
        "id": "LE4a4iG88Dik"
      }
    },
    {
      "cell_type": "code",
      "execution_count": 1,
      "metadata": {
        "colab": {
          "base_uri": "https://localhost:8080/"
        },
        "id": "YePWhTSL8C4p",
        "outputId": "e9f850a7-f661-4c22-89a4-f67239a9a82c"
      },
      "outputs": [
        {
          "output_type": "stream",
          "name": "stdout",
          "text": [
            "a. Dhruvi\n",
            "b. DEF\n",
            "c. ['Saina', 'Palak', 'ABC']\n",
            "d. ['DEF', 'ABC', 'Palak', 'Saina', 'Ritika', 'Anshika', 'Dhruvi']\n",
            "e. ['DEF', 'ABC', 'Palak', 'Saina']\n"
          ]
        }
      ],
      "source": [
        "# Q1.\n",
        "friends = ['Dhruvi', 'Anshika', 'Ritika', 'Saina', 'Palak', 'ABC', 'DEF']\n",
        "print(\"a.\", friends[0])\n",
        "print(\"b.\", friends[-1])\n",
        "print(\"c.\", friends[3:6])\n",
        "print(\"d.\", friends[::-1])\n",
        "print(\"e.\", friends[8:2:-1])"
      ]
    },
    {
      "cell_type": "code",
      "source": [
        "# Q2\n",
        "students = ('Raj', 'Simran', 'Aman', 'Preeti', 'Rahul')\n",
        "\n",
        "print(\"a.\", students)\n",
        "\n",
        "students_list = list(students)\n",
        "students_list.append('Sanya')\n",
        "students = tuple(students_list)\n",
        "print(\"b.\", students)\n",
        "\n",
        "students_list.remove('Aman')\n",
        "students = tuple(students_list)\n",
        "print(\"c.\", students)\n",
        "\n",
        "print(\"d.\", students[1:4])\n",
        "\n",
        "try:\n",
        "    students[2] = 'Kabir'\n",
        "except TypeError as e:\n",
        "    print(\"e. Tuples are immutable. Error:\", e)\n"
      ],
      "metadata": {
        "colab": {
          "base_uri": "https://localhost:8080/"
        },
        "id": "Vt_IkYUq8rH5",
        "outputId": "4bf19cdb-38d1-4f28-ea72-fe8f1654ba1b"
      },
      "execution_count": 2,
      "outputs": [
        {
          "output_type": "stream",
          "name": "stdout",
          "text": [
            "a. ('Raj', 'Simran', 'Aman', 'Preeti', 'Rahul')\n",
            "b. ('Raj', 'Simran', 'Aman', 'Preeti', 'Rahul', 'Sanya')\n",
            "c. ('Raj', 'Simran', 'Preeti', 'Rahul', 'Sanya')\n",
            "d. ('Simran', 'Preeti', 'Rahul')\n",
            "e. Tuples are immutable. Error: 'tuple' object does not support item assignment\n"
          ]
        }
      ]
    },
    {
      "cell_type": "code",
      "source": [
        "# Q3\n",
        "student_ages = {\n",
        "    'Anu': 21,\n",
        "    'Ravi': 19,\n",
        "    'Megha': 22,\n",
        "    'Tina': 20\n",
        "}\n",
        "\n",
        "print(\"a. Students with age > 20:\")\n",
        "for name, age in student_ages.items():\n",
        "    if age > 20:\n",
        "        print(name, age)\n",
        "\n",
        "student_ages['Pooja'] = 30\n",
        "print(\"b.\", student_ages)\n",
        "\n",
        "print(\"c. All students:\", student_ages.items())\n",
        "\n",
        "del student_ages['Tina']\n",
        "print(\"d.\", student_ages)\n",
        "\n",
        "average_age = sum(student_ages.values()) / len(student_ages)\n",
        "print(\"e. Average age:\", average_age)\n"
      ],
      "metadata": {
        "colab": {
          "base_uri": "https://localhost:8080/"
        },
        "id": "qv1nQoeW9BjM",
        "outputId": "8a7dfd91-ddbb-4cae-8775-f8eb590404b4"
      },
      "execution_count": 3,
      "outputs": [
        {
          "output_type": "stream",
          "name": "stdout",
          "text": [
            "a. Students with age > 20:\n",
            "Anu 21\n",
            "Megha 22\n",
            "b. {'Anu': 21, 'Ravi': 19, 'Megha': 22, 'Tina': 20, 'Pooja': 30}\n",
            "c. All students: dict_items([('Anu', 21), ('Ravi', 19), ('Megha', 22), ('Tina', 20), ('Pooja', 30)])\n",
            "d. {'Anu': 21, 'Ravi': 19, 'Megha': 22, 'Pooja': 30}\n",
            "e. Average age: 23.0\n"
          ]
        }
      ]
    },
    {
      "cell_type": "code",
      "source": [
        "# Q4\n",
        "nums = [10, 21, 32, 43, 54, 65, 76]\n",
        "print(\"Even numbers:\")\n",
        "for num in nums:\n",
        "    if num % 2 == 0:\n",
        "        print(num)\n"
      ],
      "metadata": {
        "colab": {
          "base_uri": "https://localhost:8080/"
        },
        "id": "RiS9jbIO9Le9",
        "outputId": "78302702-5e6e-4f64-f7ff-f19b3431c946"
      },
      "execution_count": 4,
      "outputs": [
        {
          "output_type": "stream",
          "name": "stdout",
          "text": [
            "Even numbers:\n",
            "10\n",
            "32\n",
            "54\n",
            "76\n"
          ]
        }
      ]
    },
    {
      "cell_type": "code",
      "source": [
        "# Q5\n",
        "nums = [1, 2, 3, 2, 4, 5, 1, 6, 7, 5]\n",
        "duplicates = []\n",
        "for i in nums:\n",
        "    if nums.count(i) > 1 and i not in duplicates:\n",
        "        duplicates.append(i)\n",
        "print(\"Duplicates:\", duplicates)\n"
      ],
      "metadata": {
        "colab": {
          "base_uri": "https://localhost:8080/"
        },
        "id": "WkMhKkzK9RnM",
        "outputId": "71b5f0d1-f003-4040-eea1-c645d6a9f94e"
      },
      "execution_count": 5,
      "outputs": [
        {
          "output_type": "stream",
          "name": "stdout",
          "text": [
            "Duplicates: [1, 2, 5]\n"
          ]
        }
      ]
    },
    {
      "cell_type": "code",
      "source": [
        "# Q6\n",
        "s = \"Jaypee\"\n",
        "print(\"Reversed:\", s[::-1])\n"
      ],
      "metadata": {
        "colab": {
          "base_uri": "https://localhost:8080/"
        },
        "id": "VNYy6vIE9UWW",
        "outputId": "fb35611e-b6a8-4214-d821-70622ec00908"
      },
      "execution_count": 6,
      "outputs": [
        {
          "output_type": "stream",
          "name": "stdout",
          "text": [
            "Reversed: eepyaJ\n"
          ]
        }
      ]
    },
    {
      "cell_type": "code",
      "source": [
        "# Q7\n",
        "a, b = 0, 1\n",
        "print(\"Fibonacci Series:\")\n",
        "for _ in range(5):\n",
        "    print(a, end=' ')\n",
        "    a, b = b, a + b\n"
      ],
      "metadata": {
        "colab": {
          "base_uri": "https://localhost:8080/"
        },
        "id": "EWbcOcUG9WZb",
        "outputId": "9894eeba-41ba-485d-8537-4c859c5f0bbd"
      },
      "execution_count": 7,
      "outputs": [
        {
          "output_type": "stream",
          "name": "stdout",
          "text": [
            "Fibonacci Series:\n",
            "0 1 1 2 3 "
          ]
        }
      ]
    },
    {
      "cell_type": "code",
      "source": [
        "# Q8\n",
        "with open('file.txt', 'w') as f:\n",
        "    f.write(\"Hi, I am currently pursuing my BTech from Jaypee.\")\n"
      ],
      "metadata": {
        "id": "vp47Lhdk9YfX"
      },
      "execution_count": 8,
      "outputs": []
    },
    {
      "cell_type": "code",
      "source": [
        "# reverse.py\n",
        "def reverse_file(filename):\n",
        "    with open(filename, 'r') as f:\n",
        "        lines = f.readlines()\n",
        "    for line in reversed(lines):\n",
        "        print(line.strip())\n",
        "\n",
        "reverse_file('file.txt')\n"
      ],
      "metadata": {
        "colab": {
          "base_uri": "https://localhost:8080/"
        },
        "id": "kPwzbyKn9al3",
        "outputId": "3f46dc0a-93f8-4da5-c1aa-9e1200983bc0"
      },
      "execution_count": 10,
      "outputs": [
        {
          "output_type": "stream",
          "name": "stdout",
          "text": [
            "Hi, I am currently pursuing my BTech from Jaypee.\n"
          ]
        }
      ]
    },
    {
      "cell_type": "code",
      "source": [
        "#Q10\n",
        "nums = [1, 2, 3, 4, 5, 6, 7, 8, 9]\n",
        "odd_numbers = [x for x in nums if x % 2 != 0]\n",
        "print(\"Odd numbers:\", odd_numbers)\n"
      ],
      "metadata": {
        "colab": {
          "base_uri": "https://localhost:8080/"
        },
        "id": "ThjOCkdB9ds0",
        "outputId": "9416c25e-cb88-415d-b0d8-4d54de850598"
      },
      "execution_count": 12,
      "outputs": [
        {
          "output_type": "stream",
          "name": "stdout",
          "text": [
            "Odd numbers: [1, 3, 5, 7, 9]\n"
          ]
        }
      ]
    },
    {
      "cell_type": "code",
      "source": [
        "# Q11\n",
        "with open('file.txt', 'r') as f:\n",
        "    content = f.read()\n",
        "print(\"Character count:\", len(content))\n"
      ],
      "metadata": {
        "colab": {
          "base_uri": "https://localhost:8080/"
        },
        "id": "RlozIkgV9lRt",
        "outputId": "1ab8350a-b703-4bb5-fab7-2c20270f42a3"
      },
      "execution_count": 13,
      "outputs": [
        {
          "output_type": "stream",
          "name": "stdout",
          "text": [
            "Character count: 49\n"
          ]
        }
      ]
    },
    {
      "cell_type": "code",
      "source": [
        "# Q12\n",
        "from collections import defaultdict\n",
        "\n",
        "def find_anagrams(words):\n",
        "    anagram_dict = defaultdict(list)\n",
        "    for word in words:\n",
        "        key = ''.join(sorted(word))\n",
        "        anagram_dict[key].append(word)\n",
        "    return [group for group in anagram_dict.values() if len(group) > 1]\n",
        "\n",
        "words = ['eat', 'ate', 'tea', 'bat', 'tab', 'cat', 'tac']\n",
        "print(\"Anagrams found:\", find_anagrams(words))\n"
      ],
      "metadata": {
        "colab": {
          "base_uri": "https://localhost:8080/"
        },
        "id": "k0f6bRup9qLq",
        "outputId": "59e36a32-9cd0-4994-8071-93ac0c53a6ff"
      },
      "execution_count": 14,
      "outputs": [
        {
          "output_type": "stream",
          "name": "stdout",
          "text": [
            "Anagrams found: [['eat', 'ate', 'tea'], ['bat', 'tab'], ['cat', 'tac']]\n"
          ]
        }
      ]
    },
    {
      "cell_type": "code",
      "source": [],
      "metadata": {
        "id": "-PDg5GJb9sSV"
      },
      "execution_count": null,
      "outputs": []
    }
  ]
}