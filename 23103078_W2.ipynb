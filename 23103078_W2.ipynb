{
  "cells": [
    {
      "cell_type": "markdown",
      "source": [
        "OPEN SOURCE SOFTWARE LAB\n",
        "ASSIGNMENT 1"
      ],
      "metadata": {
        "id": "xJjru5K66gbk"
      },
      "id": "xJjru5K66gbk"
    },
    {
      "cell_type": "markdown",
      "source": [
        "QUESTION 1"
      ],
      "metadata": {
        "id": "VIw5bu2V6nh2"
      },
      "id": "VIw5bu2V6nh2"
    },
    {
      "cell_type": "code",
      "execution_count": null,
      "id": "dfb611e8-c314-498a-8cfe-de564c895229",
      "metadata": {
        "id": "dfb611e8-c314-498a-8cfe-de564c895229"
      },
      "outputs": [],
      "source": [
        "fruits = ['Apple', 'Orange', 'Banana', 'Grapes','Cherry']\n",
        "print(fruits[0])\n",
        "print(fruits[4])"
      ]
    },
    {
      "cell_type": "code",
      "execution_count": null,
      "id": "115b6a5d-e243-4562-aea8-3fb87c825849",
      "metadata": {
        "id": "115b6a5d-e243-4562-aea8-3fb87c825849"
      },
      "outputs": [],
      "source": [
        "fruits[0:3:1]\n"
      ]
    },
    {
      "cell_type": "markdown",
      "source": [
        "QUESTION 2"
      ],
      "metadata": {
        "id": "8UQIXtV06p7t"
      },
      "id": "8UQIXtV06p7t"
    },
    {
      "cell_type": "code",
      "execution_count": null,
      "id": "1cd7b4d2-7b87-4ef4-b5e0-3d892d0fa324",
      "metadata": {
        "id": "1cd7b4d2-7b87-4ef4-b5e0-3d892d0fa324"
      },
      "outputs": [],
      "source": [
        "studentMap = {'Shireen':20, 'Dhruvi':19, 'Khushi':21, 'Anshika': 21}\n",
        "print(studentMap['Dhruvi'])\n",
        "#adding a new student\n",
        "studentMap['Ritika'] = 21"
      ]
    },
    {
      "cell_type": "code",
      "execution_count": null,
      "id": "28bb37ee-abd7-44cb-be1e-2388a9125874",
      "metadata": {
        "id": "28bb37ee-abd7-44cb-be1e-2388a9125874"
      },
      "outputs": [],
      "source": [
        "print(studentMap)"
      ]
    },
    {
      "cell_type": "markdown",
      "source": [
        "QUESTION 3"
      ],
      "metadata": {
        "id": "cEU6485F6rq8"
      },
      "id": "cEU6485F6rq8"
    },
    {
      "cell_type": "code",
      "execution_count": null,
      "id": "aa011da4-e8a9-4257-89bd-94f5220de982",
      "metadata": {
        "id": "aa011da4-e8a9-4257-89bd-94f5220de982"
      },
      "outputs": [],
      "source": [
        "#function to find duplicates in list of 10 int\n",
        "def findDuplicates(items):\n",
        "    dupList=[]\n",
        "    for i in range(len(items)):\n",
        "        for j in range(i+1,len(items)):\n",
        "            if items[i] == items[j] and items[i] not in dupList :\n",
        "                dupList.append(items[i])\n",
        "                print(items[i])\n",
        "\n",
        "items= [1,2,2,2,3,3,3,4]\n",
        "dup = findDuplicates(items)"
      ]
    },
    {
      "cell_type": "markdown",
      "source": [
        "QUESTION 4"
      ],
      "metadata": {
        "id": "XohVoX_C6tkS"
      },
      "id": "XohVoX_C6tkS"
    },
    {
      "cell_type": "code",
      "execution_count": null,
      "id": "fd119208-b0b9-431f-b305-1fcd203bc827",
      "metadata": {
        "id": "fd119208-b0b9-431f-b305-1fcd203bc827"
      },
      "outputs": [],
      "source": [
        "# func to take  a list and break it into smaller list of k size\n",
        "def group(numList,k):\n",
        "    return [numList[i:i+k] for i in range(0,len(numList),k)]\n",
        "\n",
        "\n",
        "numList = [1,2,3,4,5,6,7,8,9,10]\n",
        "k = 3\n",
        "chunks = group(numList,k)\n",
        "print(chunks)"
      ]
    },
    {
      "cell_type": "markdown",
      "source": [
        "QUESTION 5"
      ],
      "metadata": {
        "id": "681b2aDb6wMh"
      },
      "id": "681b2aDb6wMh"
    },
    {
      "cell_type": "code",
      "execution_count": null,
      "id": "f8324387-e0db-45fd-979c-16c3d7313532",
      "metadata": {
        "id": "f8324387-e0db-45fd-979c-16c3d7313532"
      },
      "outputs": [],
      "source": [
        "#function to sort list of string based on len\n",
        "import heapq\n",
        "def lensort(myStr):\n",
        "    sortedLis = []\n",
        "    for i in range(len(myStr)):\n",
        "        currLen = len(myStr[i])\n",
        "        heapq.heappush(sortedLis,(currLen,myStr[i]))\n",
        "    return sortedLis\n",
        "\n",
        "\n",
        "myStr = ['Hello','ABC','Python','Jupyter Notebook']\n",
        "ls=lensort(myStr)\n",
        "\n",
        "for i in range(len(ls)):\n",
        "    print(ls[i][1])"
      ]
    },
    {
      "cell_type": "code",
      "execution_count": null,
      "id": "e5468639-28c4-4427-af8f-6f447008405a",
      "metadata": {
        "id": "e5468639-28c4-4427-af8f-6f447008405a"
      },
      "outputs": [],
      "source": [
        "files = [\"document.txt\", \"image.jpeg\", \"script.py\", \"archive.zip\", \"notes.docx\"]\n",
        "# Sort files by their extensions\n",
        "sorted_files = sorted(files, key=lambda x: x.split('.')[-1])\n",
        "print(\"Sorted files:\", sorted_files)\n"
      ]
    },
    {
      "cell_type": "markdown",
      "source": [
        "QUESTION 6"
      ],
      "metadata": {
        "id": "DG7rP_8V6zc5"
      },
      "id": "DG7rP_8V6zc5"
    },
    {
      "cell_type": "code",
      "execution_count": null,
      "id": "79680368-3337-421d-af80-37257a4a67eb",
      "metadata": {
        "id": "79680368-3337-421d-af80-37257a4a67eb"
      },
      "outputs": [],
      "source": [
        "#file handling\n",
        "file_path = r\"C:\\Users\\23103078\\Desktop\\demoFile.txt\"\n",
        "file = open(file_path,'r')\n",
        "print(file)\n",
        "#print(\"Is Closed?\", file.closed)"
      ]
    },
    {
      "cell_type": "code",
      "execution_count": null,
      "id": "ab2255a1-3b04-4b52-8043-156f0a41c639",
      "metadata": {
        "id": "ab2255a1-3b04-4b52-8043-156f0a41c639"
      },
      "outputs": [],
      "source": [
        "#file.close()\n",
        "#print(\"Is Closed?\", file.closed)\n"
      ]
    },
    {
      "cell_type": "code",
      "execution_count": null,
      "id": "03b0467c-40ec-4d80-ba06-0d2e3ee2a7d5",
      "metadata": {
        "id": "03b0467c-40ec-4d80-ba06-0d2e3ee2a7d5"
      },
      "outputs": [],
      "source": [
        "#reading file\n",
        "file = open(file_path,'r')\n",
        "content = file.read()\n",
        "print(content)"
      ]
    },
    {
      "cell_type": "code",
      "execution_count": null,
      "id": "efa8d976-4627-4f85-9e67-2044633204f1",
      "metadata": {
        "id": "efa8d976-4627-4f85-9e67-2044633204f1"
      },
      "outputs": [],
      "source": [
        "with open(file_path, \"r\") as file:\n",
        "    while True:\n",
        "        line = file.readline()\n",
        "        if not line:\n",
        "            break\n",
        "        print(line)with open(file_path, \"r\") as file:\n",
        "    while True:\n",
        "        line = file.readline()\n",
        "        if not line:\n",
        "            break\n",
        "        print(line)\n"
      ]
    },
    {
      "cell_type": "code",
      "execution_count": null,
      "id": "468ad6cc-7919-4503-845c-d1f67c93fd28",
      "metadata": {
        "id": "468ad6cc-7919-4503-845c-d1f67c93fd28"
      },
      "outputs": [],
      "source": [
        "file = open(file_path, \"w\")\n",
        "\n",
        "for i in range(3):\n",
        "   ip = input(\"Enter i/p: \")\n",
        "   file.write(ip)\n",
        "   file.write(\"\\n\")\n",
        "\n",
        "file.close()\n",
        "\n",
        "print(\"Data is written into the file.\")"
      ]
    },
    {
      "cell_type": "code",
      "execution_count": null,
      "id": "e7809511-ba15-4eb2-bbb9-89d57fd4324f",
      "metadata": {
        "id": "e7809511-ba15-4eb2-bbb9-89d57fd4324f"
      },
      "outputs": [],
      "source": [
        "with open(file_path, \"r\") as file:\n",
        "    while True:\n",
        "        line = file.readline()\n",
        "        if not line:\n",
        "            break\n",
        "        print(line)\n"
      ]
    },
    {
      "cell_type": "markdown",
      "source": [
        "QUESTION 7"
      ],
      "metadata": {
        "id": "mPkXEq0l62tD"
      },
      "id": "mPkXEq0l62tD"
    },
    {
      "cell_type": "code",
      "execution_count": null,
      "id": "0dfbcbfa-318b-4360-90bf-731e6ba0e73c",
      "metadata": {
        "id": "0dfbcbfa-318b-4360-90bf-731e6ba0e73c"
      },
      "outputs": [],
      "source": [
        "def file_statistics(filename):\n",
        "    with open(filename, 'r') as f:\n",
        "        lines = f.readlines()\n",
        "    num_lines = len(lines)\n",
        "    num_words = sum(len(line.split()) for line in lines)\n",
        "    num_chars = sum(len(line) for line in lines)\n",
        "    return num_chars, num_words, num_lines\n",
        "\n",
        "file_name = r\"C:\\Users\\Shireen\\Dropbox\\PC\\Downloads\\ossp.txt\"\n",
        "file_statistics(file_name)\n"
      ]
    },
    {
      "cell_type": "markdown",
      "source": [
        "QUESTION 8"
      ],
      "metadata": {
        "id": "MKONoHNFN476"
      },
      "id": "MKONoHNFN476"
    },
    {
      "cell_type": "code",
      "source": [
        "# reverse.py\n",
        "def reverse_file(filename):\n",
        "    with open(filename, 'r') as f:\n",
        "        lines = f.readlines()\n",
        "    for line in reversed(lines):\n",
        "        print(line.rstrip())\n",
        "\n",
        "reverse_file('sample.txt')"
      ],
      "metadata": {
        "id": "RlN-fgop66gj"
      },
      "id": "RlN-fgop66gj",
      "execution_count": null,
      "outputs": []
    },
    {
      "cell_type": "markdown",
      "source": [
        "QUESTION 9"
      ],
      "metadata": {
        "id": "_AFXyv1vOgxy"
      },
      "id": "_AFXyv1vOgxy"
    },
    {
      "cell_type": "code",
      "source": [
        "import textwrap\n",
        "\n",
        "def wrap_lines(filename, width):\n",
        "    with open(filename, 'r') as f:\n",
        "        for line in f:\n",
        "            wrapped = textwrap.wrap(line, width)\n",
        "            for wrap_line in wrapped:\n",
        "                print(wrap_line)\n",
        "\n",
        "wrap_lines('sample.txt', 40)"
      ],
      "metadata": {
        "id": "Ntyi51u-OjTy"
      },
      "id": "Ntyi51u-OjTy",
      "execution_count": null,
      "outputs": []
    },
    {
      "cell_type": "markdown",
      "source": [
        "QUESTION 10"
      ],
      "metadata": {
        "id": "4IsmV3YjOo8d"
      },
      "id": "4IsmV3YjOo8d"
    },
    {
      "cell_type": "code",
      "source": [
        "def custom_map(func, lst):\n",
        "    return [func(x) for x in lst]\n",
        "\n",
        "print(custom_map(lambda x: x**2, [1, 2, 3, 4]))"
      ],
      "metadata": {
        "id": "3Qrm_MfXOqv8"
      },
      "id": "3Qrm_MfXOqv8",
      "execution_count": null,
      "outputs": []
    },
    {
      "cell_type": "markdown",
      "source": [
        "QUESTION 11"
      ],
      "metadata": {
        "id": "1Lj-yI_IOvvG"
      },
      "id": "1Lj-yI_IOvvG"
    },
    {
      "cell_type": "code",
      "source": [
        "def custom_filter(func, lst):\n",
        "    return [x for x in lst if func(x)]\n",
        "\n",
        "print(custom_filter(lambda x: x % 2 == 0, [1, 2, 3, 4]))"
      ],
      "metadata": {
        "id": "DY4zQdy_OxGS"
      },
      "id": "DY4zQdy_OxGS",
      "execution_count": null,
      "outputs": []
    },
    {
      "cell_type": "markdown",
      "source": [
        "QUESTION 12"
      ],
      "metadata": {
        "id": "TAqba71gO1vo"
      },
      "id": "TAqba71gO1vo"
    },
    {
      "cell_type": "code",
      "source": [
        "def triplet(n):\n",
        "    result = []\n",
        "    for a in range(n):\n",
        "        for b in range(a, n):\n",
        "            c = a + b\n",
        "            if c < n:\n",
        "                result.append((a, b, c))\n",
        "    return result\n",
        "\n",
        "print(triplet(10))\n"
      ],
      "metadata": {
        "id": "j08PqrrlO1W1"
      },
      "id": "j08PqrrlO1W1",
      "execution_count": null,
      "outputs": []
    },
    {
      "cell_type": "markdown",
      "source": [
        "QUESION 13"
      ],
      "metadata": {
        "id": "I0iPwFDPO-CC"
      },
      "id": "I0iPwFDPO-CC"
    },
    {
      "cell_type": "code",
      "source": [
        "import csv\n",
        "from string import ascii_lowercase\n",
        "\n",
        "def parse_csv(filename):\n",
        "    with open(filename, 'r') as f:\n",
        "        reader = csv.reader(f)\n",
        "        return [row for row in reader]\n",
        "\n",
        "print(parse_csv('data.csv'))\n",
        "\n",
        "def mutate(word):\n",
        "    mutations = set()\n",
        "    # Insert a letter\n",
        "    for i in range(len(word) + 1):\n",
        "        for ch in ascii_lowercase:\n",
        "            mutations.add(word[:i] + ch + word[i:])\n",
        "    # Delete a letter\n",
        "    for i in range(len(word)):\n",
        "        mutations.add(word[:i] + word[i+1:])\n",
        "    # Replace a letter\n",
        "    for i in range(len(word)):\n",
        "        for ch in ascii_lowercase:\n",
        "            if word[i] != ch:\n",
        "                mutations.add(word[:i] + ch + word[i+1:])\n",
        "    # Swap adjacent letters\n",
        "    for i in range(len(word) - 1):\n",
        "        swapped = list(word)\n",
        "        swapped[i], swapped[i+1] = swapped[i+1], swapped[i]\n",
        "        mutations.add(\"\".join(swapped))\n",
        "    return list(mutations)\n",
        "\n",
        "print(mutate('cat'))\n"
      ],
      "metadata": {
        "id": "cRv3_cpzO_Ze"
      },
      "id": "cRv3_cpzO_Ze",
      "execution_count": null,
      "outputs": []
    },
    {
      "cell_type": "markdown",
      "source": [
        "QUESTION 14"
      ],
      "metadata": {
        "id": "vqv2qiUIPHlI"
      },
      "id": "vqv2qiUIPHlI"
    },
    {
      "cell_type": "code",
      "source": [
        "def nearly_equal(a, b):\n",
        "    return b in mutate(a)\n",
        "\n",
        "print(nearly_equal('cat', 'bat'))\n",
        "print(nearly_equal('cat', 'cats'))\n"
      ],
      "metadata": {
        "id": "keNpGxtVPI0x"
      },
      "id": "keNpGxtVPI0x",
      "execution_count": null,
      "outputs": []
    },
    {
      "cell_type": "markdown",
      "source": [
        "QUESTION 15"
      ],
      "metadata": {
        "id": "__lF8z_LPN98"
      },
      "id": "__lF8z_LPN98"
    },
    {
      "cell_type": "code",
      "source": [
        "from collections import Counter\n",
        "\n",
        "def char_frequency(filename):\n",
        "    with open(filename, 'r') as f:\n",
        "        text = f.read()\n",
        "    freq = Counter(text)\n",
        "    for char, count in freq.items():\n",
        "        print(f\"{repr(char)}: {count}\")\n",
        "\n",
        "# Heuristic for guessing file type:\n",
        "def guess_file_type(freq):\n",
        "    if freq.get('{') and freq.get(';'):\n",
        "        return \"Possibly a C program\"\n",
        "    elif freq.get('def') or freq.get('import'):\n",
        "        return \"Possibly a Python program\"\n",
        "    else:\n",
        "        return \"Possibly a text file\"\n",
        "\n",
        "char_frequency('file.py')\n"
      ],
      "metadata": {
        "id": "dIw2bWY4PPUo"
      },
      "id": "dIw2bWY4PPUo",
      "execution_count": null,
      "outputs": []
    },
    {
      "cell_type": "markdown",
      "source": [
        "QUESTION 16"
      ],
      "metadata": {
        "id": "Dke7-w82PT1R"
      },
      "id": "Dke7-w82PT1R"
    },
    {
      "cell_type": "code",
      "source": [
        "from collections import defaultdict\n",
        "\n",
        "def find_anagrams(word_list):\n",
        "    anagram_dict = defaultdict(list)\n",
        "    for word in word_list:\n",
        "        key = ''.join(sorted(word))\n",
        "        anagram_dict[key].append(word)\n",
        "    return [group for group in anagram_dict.values() if len(group) > 1]\n",
        "\n",
        "words = ['eat', 'tea', 'ate', 'bat', 'tab', 'cat']\n",
        "print(find_anagrams(words))\n"
      ],
      "metadata": {
        "id": "JiP_5MAVPVHd"
      },
      "id": "JiP_5MAVPVHd",
      "execution_count": null,
      "outputs": []
    }
  ],
  "metadata": {
    "kernelspec": {
      "display_name": "Python 3 (ipykernel)",
      "language": "python",
      "name": "python3"
    },
    "language_info": {
      "codemirror_mode": {
        "name": "ipython",
        "version": 3
      },
      "file_extension": ".py",
      "mimetype": "text/x-python",
      "name": "python",
      "nbconvert_exporter": "python",
      "pygments_lexer": "ipython3",
      "version": "3.11.7"
    },
    "colab": {
      "provenance": []
    }
  },
  "nbformat": 4,
  "nbformat_minor": 5
}