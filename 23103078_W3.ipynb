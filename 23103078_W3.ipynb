{
  "cells": [
    {
      "cell_type": "code",
      "execution_count": null,
      "id": "37fd71b8-a89b-4af7-88b8-306099d31c49",
      "metadata": {
        "id": "37fd71b8-a89b-4af7-88b8-306099d31c49",
        "outputId": "1f2dfcaf-a9fe-41ab-a2d3-9315022814bd"
      },
      "outputs": [
        {
          "name": "stdout",
          "output_type": "stream",
          "text": [
            "{'Alice': 'name', 12: 'age', 'Delhi': 'city'}\n"
          ]
        }
      ],
      "source": [
        "#Q1 interchange keys and vals in dictionary\n",
        "my_dict = {'name' : 'Alice',\n",
        "            'age' : 12,\n",
        "            'city' : 'Delhi'\n",
        "           };\n",
        "\n",
        "new_dict = {};\n",
        "\n",
        "def invertDict(my_dict, new_dict):\n",
        "    for key,value in my_dict.items():\n",
        "        new_dict[value] = key\n",
        "    return new_dict\n",
        "\n",
        "#reversed dictionary\n",
        "invertDict(my_dict,new_dict)\n",
        "print(new_dict)"
      ]
    },
    {
      "cell_type": "code",
      "execution_count": null,
      "id": "4a86716f-251c-4558-ba30-31d68d60d865",
      "metadata": {
        "id": "4a86716f-251c-4558-ba30-31d68d60d865",
        "outputId": "beb41999-91af-4147-aadb-895eea57e843"
      },
      "outputs": [
        {
          "name": "stdout",
          "output_type": "stream",
          "text": [
            "{'English': 60, 'Maths': 80, 'Science': 75}\n"
          ]
        }
      ],
      "source": [
        "# Q2 sort val of dict based on key\n",
        "d = {'English' : 60,\n",
        "          'Science' : 75,\n",
        "          'Maths' : 80\n",
        "        };\n",
        "\n",
        "def valuesort(d):\n",
        "    myKeys = list(d.keys())\n",
        "    myKeys.sort()\n",
        "\n",
        "    # Sorted Dictionary\n",
        "    sd = {i: d[i] for i in myKeys}\n",
        "    print(sd)\n",
        "\n",
        "valuesort(d)"
      ]
    },
    {
      "cell_type": "code",
      "execution_count": null,
      "id": "e163dc73-efa2-46de-9a13-50047f54cad7",
      "metadata": {
        "id": "e163dc73-efa2-46de-9a13-50047f54cad7",
        "outputId": "ef471931-53ef-42c1-ddc5-478694b7c6ec"
      },
      "outputs": [
        {
          "name": "stdout",
          "output_type": "stream",
          "text": [
            "[85, 41]\n"
          ]
        }
      ],
      "source": [
        "# Q3 Write a python program to find N largest elements assuming size of list is greater than\n",
        "# or equal to N.\n",
        "\n",
        "def Nmaxelements(list1, N):\n",
        "    final_list = []\n",
        "\n",
        "    for i in range(0, N):\n",
        "        max1 = 0\n",
        "        for j in range(len(list1)):\n",
        "            if list1[j] > max1:\n",
        "                max1 = list1[j]\n",
        "\n",
        "        list1.remove(max1)\n",
        "        final_list.append(max1)\n",
        "\n",
        "    print(final_list)\n",
        "\n",
        "list1 = [2, 6, 41, 85, 0, 3, 7, 6, 10]\n",
        "N = 2\n",
        "\n",
        "Nmaxelements(list1, N)"
      ]
    },
    {
      "cell_type": "code",
      "source": [
        "#Q4 len 2 combinations\n",
        "def get_combinations(digits):\n",
        "    string_maps = {\n",
        "        \"1\": \"abc\", \"2\": \"def\", \"3\": \"ghi\",\n",
        "        \"4\": \"jkl\", \"5\": \"mno\", \"6\": \"pqrs\",\n",
        "        \"7\": \"tuv\", \"8\": \"wxy\", \"9\": \"z\"\n",
        "    }\n",
        "\n",
        "    result = []\n",
        "    for i in range(len(digits) - 1):\n",
        "        first = string_maps[digits[i]]\n",
        "        second = string_maps[digits[i+1]]\n",
        "        for ch1 in first:\n",
        "            for ch2 in second:\n",
        "                result.append(ch1 + ch2)\n",
        "    return result\n",
        "\n",
        "print(get_combinations(\"123\"))\n"
      ],
      "metadata": {
        "colab": {
          "base_uri": "https://localhost:8080/"
        },
        "id": "08eRCZ_gLZm4",
        "outputId": "6bc6e399-c67d-45a1-8d65-3dcab3e5a378"
      },
      "id": "08eRCZ_gLZm4",
      "execution_count": 1,
      "outputs": [
        {
          "output_type": "stream",
          "name": "stdout",
          "text": [
            "['ad', 'ae', 'af', 'bd', 'be', 'bf', 'cd', 'ce', 'cf', 'dg', 'dh', 'di', 'eg', 'eh', 'ei', 'fg', 'fh', 'fi']\n"
          ]
        }
      ]
    },
    {
      "cell_type": "code",
      "source": [
        "#Q5 num of islands\n",
        "\n",
        "def dfs(grid, i, j):\n",
        "    if i < 0 or j < 0 or i >= 10 or j >= 10 or grid[i][j] == 0: #out of bound case / water case\n",
        "        return\n",
        "\n",
        "    grid[i][j] = 0  #mark vis\n",
        "    #explore neighbors\n",
        "    dfs(grid, i+1, j)\n",
        "    dfs(grid, i-1, j)\n",
        "    dfs(grid, i, j+1)\n",
        "    dfs(grid, i, j-1)\n",
        "\n",
        "def count_islands(grid):\n",
        "    count = 0\n",
        "    for i in range(10):\n",
        "        for j in range(10):\n",
        "            if grid[i][j] == 1:\n",
        "                dfs(grid, i, j)\n",
        "                count += 1\n",
        "    return count\n",
        "\n",
        "\n",
        "\n",
        "data = [\n",
        "    [1,1,0,0,0,0,0,1,1,1],\n",
        "    [1,0,0,0,0,0,0,1,1,1],\n",
        "    [0,0,0,0,0,0,0,1,1,1],\n",
        "    [0,0,1,0,0,0,1,0,0,0],\n",
        "    [0,0,0,0,0,1,1,1,0,0],\n",
        "    [0,0,0,0,1,1,1,1,1,0],\n",
        "    [0,0,0,1,1,1,1,1,1,1],\n",
        "    [1,0,0,0,1,1,1,1,1,0],\n",
        "    [1,1,0,0,0,1,1,1,0,0],\n",
        "    [1,1,1,0,0,0,1,0,0,0]\n",
        "]\n",
        "\n",
        "print(\"Number of islands:\", count_islands(data))\n"
      ],
      "metadata": {
        "colab": {
          "base_uri": "https://localhost:8080/"
        },
        "id": "KQsPifZKLaxp",
        "outputId": "090d4728-0d20-494e-9cff-1080dfb19e8e"
      },
      "id": "KQsPifZKLaxp",
      "execution_count": 2,
      "outputs": [
        {
          "output_type": "stream",
          "name": "stdout",
          "text": [
            "Number of islands: 5\n"
          ]
        }
      ]
    },
    {
      "cell_type": "code",
      "execution_count": null,
      "id": "18d02609-a626-4dc5-a184-2814bcbf9e33",
      "metadata": {
        "id": "18d02609-a626-4dc5-a184-2814bcbf9e33",
        "outputId": "bc49f89f-f3f2-4817-d97b-f694659b3acb"
      },
      "outputs": [
        {
          "name": "stdin",
          "output_type": "stream",
          "text": [
            "Enter a comma-separated string of integers:  1, 7, 12, 2, 10 , 5\n"
          ]
        },
        {
          "name": "stdout",
          "output_type": "stream",
          "text": [
            "[2, 14, 24, 4, 20, 10]\n"
          ]
        }
      ],
      "source": [
        "#Q6\n",
        "input_string = input(\"Enter a comma-separated string of integers: \")\n",
        "numbers = [int(num.strip()) for num in input_string.split(',')]\n",
        "doubled_numbers = [num * 2 for num in numbers]\n",
        "print(doubled_numbers)\n",
        "\n",
        ""
      ]
    },
    {
      "cell_type": "code",
      "execution_count": null,
      "id": "670af625-d298-42c1-81d4-bbf27085fb4b",
      "metadata": {
        "id": "670af625-d298-42c1-81d4-bbf27085fb4b",
        "outputId": "bd7ca7a9-ab45-44a5-c125-6bc96e8be4d1"
      },
      "outputs": [
        {
          "name": "stdout",
          "output_type": "stream",
          "text": [
            "['h', 'e', 'l', 'l', 'o', ' ', 'f', 'i', 'l', 'e']\n"
          ]
        }
      ],
      "source": [
        "#Q7\n",
        "\n",
        "with open(r\"C:\\Users\\23103078\\Downloads\\demo.txt\", 'r') as file:\n",
        "    # Read the entire content and convert it into a list of characters\n",
        "    char_list = list(file.read())\n",
        "print(char_list)\n"
      ]
    },
    {
      "cell_type": "code",
      "source": [
        "#Q8 Vending machine demo\n",
        "\n",
        "def load_items(filename):\n",
        "    items = {}\n",
        "    f = open(filename, \"r\")\n",
        "    for line in f:\n",
        "        parts = line.strip().split(\"|\")\n",
        "        if len(parts) == 2:\n",
        "            name = parts[0].strip()\n",
        "            price = int(parts[1].strip())\n",
        "            items[name] = price\n",
        "    f.close()\n",
        "    return items\n",
        "\n",
        "def vending_machine():\n",
        "    items = load_items(\"VendingItems.txt\")\n",
        "    names = list(items.keys())\n",
        "\n",
        "    while True:\n",
        "        item = input(\"Enter item name: \")\n",
        "        if item in items:\n",
        "            break\n",
        "        else:\n",
        "            print(\"Available Items are:\", names)\n",
        "            print(\"Try Again.\")\n",
        "\n",
        "    while True:\n",
        "        money = input(\"Enter money: \")\n",
        "        if money.isdigit():\n",
        "            money = int(money)\n",
        "            break\n",
        "        else:\n",
        "            print(\"Bad Input\", money)\n",
        "            print(\"Try Again.\")\n",
        "\n",
        "    cost = items[item]\n",
        "    if money < cost:\n",
        "        print(\"Not enough money.\")\n",
        "    else:\n",
        "        print(\"Thank you for your purchase. Enjoy\")\n",
        "        if money > cost:\n",
        "            print(\"Do not forget to collect your change,\", money - cost, \"Rs.\")\n",
        "\n",
        "\n",
        "# Create VendingItems.txt with sample data\n",
        "with open(\"VendingItems.txt\", \"w\") as f:\n",
        "    f.write(\"Potato Chips|20\\n\")\n",
        "    f.write(\"Popcorn|30\\n\")\n",
        "    f.write(\"Chocolate|15\\n\")\n",
        "    f.write(\"Biscuit|10\\n\")\n",
        "    f.write(\"Soft Drink|12\\n\")\n",
        "\n",
        "vending_machine()"
      ],
      "metadata": {
        "colab": {
          "base_uri": "https://localhost:8080/"
        },
        "id": "awPMe3oKLcwj",
        "outputId": "80760b15-a242-4eed-c642-4f5db88ac98e"
      },
      "id": "awPMe3oKLcwj",
      "execution_count": 7,
      "outputs": [
        {
          "output_type": "stream",
          "name": "stdout",
          "text": [
            "Enter item name: Chocolate\n",
            "Enter money: 50\n",
            "Thank you for your purchase. Enjoy\n",
            "Do not forget to collect your change, 35 Rs.\n"
          ]
        }
      ]
    },
    {
      "cell_type": "code",
      "execution_count": null,
      "id": "20ba0775-7927-41e5-8f15-4077290130ff",
      "metadata": {
        "id": "20ba0775-7927-41e5-8f15-4077290130ff",
        "outputId": "72e90d6d-4d9c-458e-a9dc-88e571e88319"
      },
      "outputs": [
        {
          "data": {
            "text/plain": [
              "4"
            ]
          },
          "execution_count": 27,
          "metadata": {},
          "output_type": "execute_result"
        }
      ],
      "source": [
        "#Q9- Binary search\n",
        "\n",
        "arr = [1,2,3,4,12,30,45]\n",
        "\n",
        "#iterative approach\n",
        "def bin_search_itr(arr,s,e,key):\n",
        "    while s <= e:\n",
        "        mid = (s + e)//2\n",
        "        if arr[mid] == key:\n",
        "            return mid\n",
        "        elif arr[mid] > key:\n",
        "            e = mid - 1\n",
        "        else:\n",
        "            s = mid + 1\n",
        "    return -1\n",
        "\n",
        "#recursive approach\n",
        "def bin_search_rec(arr,s,e,key):\n",
        "    if s > e:\n",
        "        return -1\n",
        "\n",
        "    mid = (s + e)//2\n",
        "\n",
        "    if arr[mid] == key:\n",
        "        return mid\n",
        "    elif arr[mid] > key:\n",
        "        return bin_search_rec(arr,s,mid-1,key)\n",
        "    else:\n",
        "       return bin_search_rec(arr,mid+1,e,key)\n",
        "\n",
        "    return -1\n",
        "\n",
        "#bin_search_itr(arr,0,6,12)\n",
        "bin_search_rec(arr,0,6,12)"
      ]
    },
    {
      "cell_type": "code",
      "source": [
        "#Q10 most freq word\n",
        "\n",
        "def most_repetitive_word(filename):\n",
        "    f = open(filename, \"r\")\n",
        "    text = f.read()\n",
        "    f.close()\n",
        "\n",
        "    words = text.lower().split()\n",
        "    freq = {}\n",
        "    for word in words:\n",
        "        if word in freq:\n",
        "            freq[word] += 1\n",
        "        else:\n",
        "            freq[word] = 1\n",
        "\n",
        "    max_count = 0\n",
        "    max_word = \"\"\n",
        "    for word in freq:\n",
        "        if freq[word] > max_count:\n",
        "            max_count = freq[word]\n",
        "            max_word = word\n",
        "\n",
        "    print(\"Most frequent word:\", max_word, \"(\", max_count, \"times )\")\n",
        "\n",
        "# Create a txt file\n",
        "with open(\"sample.txt\", \"w\") as f:\n",
        "    f.write(\"apple banana apple orange banana apple mango orange apple banana banana\")\n",
        "\n",
        "most_repetitive_word(\"sample.txt\")"
      ],
      "metadata": {
        "colab": {
          "base_uri": "https://localhost:8080/"
        },
        "id": "s1upyeF-LesV",
        "outputId": "ad667b43-ec85-4d12-a33e-35ae89c4f866"
      },
      "id": "s1upyeF-LesV",
      "execution_count": 6,
      "outputs": [
        {
          "output_type": "stream",
          "name": "stdout",
          "text": [
            "Most frequent word: apple ( 4 times )\n"
          ]
        }
      ]
    },
    {
      "cell_type": "code",
      "execution_count": 5,
      "id": "d1252cce-3b1b-494b-b548-69e728ba719f",
      "metadata": {
        "colab": {
          "base_uri": "https://localhost:8080/"
        },
        "id": "d1252cce-3b1b-494b-b548-69e728ba719f",
        "outputId": "5d69fa00-c617-449c-d414-75a6f0a1bdf5"
      },
      "outputs": [
        {
          "output_type": "stream",
          "name": "stdout",
          "text": [
            "[1, 2, 3, 4, 5]\n"
          ]
        }
      ],
      "source": [
        "#Q11 unique ele\n",
        "\n",
        "def get_unique_elements(lst):\n",
        "    unique = []\n",
        "    for item in lst:\n",
        "        if item not in unique:\n",
        "            unique.append(item)\n",
        "    return unique\n",
        "\n",
        "my_list = [1, 2, 2, 3, 4, 3, 5, 1]\n",
        "print(get_unique_elements(my_list))"
      ]
    },
    {
      "cell_type": "code",
      "execution_count": 3,
      "id": "65d344d3-229b-4302-aec6-f5f6b45c294a",
      "metadata": {
        "colab": {
          "base_uri": "https://localhost:8080/"
        },
        "id": "65d344d3-229b-4302-aec6-f5f6b45c294a",
        "outputId": "871cae6c-150e-40f4-b046-40716abd63ed"
      },
      "outputs": [
        {
          "output_type": "stream",
          "name": "stdout",
          "text": [
            "e\n"
          ]
        }
      ],
      "source": [
        "#Q12\n",
        "def first_non_repeating(s):\n",
        "    for i in range(len(s)):\n",
        "        if s.count(s[i]) == 1:\n",
        "            return s[i]\n",
        "    return None\n",
        "\n",
        "print(first_non_repeating(\"aabbccddef\"))\n"
      ]
    },
    {
      "cell_type": "code",
      "source": [
        "#Q13\n",
        "def remove_parenthesis_area(data):\n",
        "    result = []\n",
        "    for item in data:\n",
        "        new_item = \"\"\n",
        "        inside = False\n",
        "        for ch in item:\n",
        "            if ch == '(':\n",
        "                inside = True\n",
        "            elif ch == ')':\n",
        "                inside = False\n",
        "            elif not inside:\n",
        "                new_item += ch\n",
        "        result.append(new_item.strip())\n",
        "    return result\n",
        "\n",
        "data = [\"example (.com)\", \"w3resource\", \"github (.com)\", \"stackoverflow (.com)\"]\n",
        "print(remove_parenthesis_area(data))\n"
      ],
      "metadata": {
        "colab": {
          "base_uri": "https://localhost:8080/"
        },
        "id": "vYUuM7CjLiWa",
        "outputId": "bcbc8b03-e2c7-4dbf-862d-e91158ca90bb"
      },
      "id": "vYUuM7CjLiWa",
      "execution_count": 4,
      "outputs": [
        {
          "output_type": "stream",
          "name": "stdout",
          "text": [
            "['example', 'w3resource', 'github', 'stackoverflow']\n"
          ]
        }
      ]
    }
  ],
  "metadata": {
    "kernelspec": {
      "display_name": "Python 3 (ipykernel)",
      "language": "python",
      "name": "python3"
    },
    "language_info": {
      "codemirror_mode": {
        "name": "ipython",
        "version": 3
      },
      "file_extension": ".py",
      "mimetype": "text/x-python",
      "name": "python",
      "nbconvert_exporter": "python",
      "pygments_lexer": "ipython3",
      "version": "3.11.7"
    },
    "colab": {
      "provenance": []
    }
  },
  "nbformat": 4,
  "nbformat_minor": 5
}